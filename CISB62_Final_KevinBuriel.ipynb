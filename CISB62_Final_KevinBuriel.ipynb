{
 "cells": [
  {
   "cell_type": "markdown",
   "id": "d4264b26",
   "metadata": {},
   "source": [
    "## Running Sentiment Analysis and Restricted Boltzmann Machine-based Recommendation System on Beer Reviews\n",
    "### I will be using a Recurrent Neural Network (RNN) and a Long Short-Term Memory (LSTM) model to run sentiment analysis based on the names of beers and a score based on reviews made by users. I will then be using a Restricted Boltzmann Machine model to create a recommendation system based on scores trained on the dataset. This system recommends beers to users that have a similar score based on existing reviews the user has made. This dataset was downloaded from https://www.kaggle.com/datasets/thedevastator/1-5-million-beer-reviews-from-beer-advocate.\n",
    "### Deep Learning techniques used: RNN, LSTM, RBM, hyperparameter tuning\n",
    "![title](pic/toast-beer-drinks-free-vector.jpg)"
   ]
  },
  {
   "cell_type": "markdown",
   "id": "f02edeb2",
   "metadata": {},
   "source": [
    "### Load necessary libraries"
   ]
  },
  {
   "cell_type": "code",
   "execution_count": 1,
   "id": "9abcf953",
   "metadata": {},
   "outputs": [],
   "source": [
    "import pandas as pd\n",
    "from matplotlib import pyplot as plt\n",
    "import numpy as np\n",
    "import seaborn as sns\n",
    "import datetime\n",
    "import re\n",
    "import keras\n",
    "from keras.preprocessing.text import Tokenizer\n",
    "from sklearn.model_selection import train_test_split\n",
    "import tensorflow as tf\n",
    "from tensorflow.keras.callbacks import ModelCheckpoint\n",
    "from tensorflow.keras.preprocessing import sequence\n",
    "from tensorflow.keras.preprocessing.sequence import pad_sequences\n",
    "from tensorflow.keras.layers import Dense, LSTM, Embedding\n",
    "from tensorflow.keras.models import Sequential\n",
    "from nltk.corpus import stopwords\n",
    "from string import punctuation\n",
    "import warnings\n",
    "warnings.filterwarnings(\"ignore\")\n"
   ]
  },
  {
   "cell_type": "markdown",
   "id": "a830f73b",
   "metadata": {},
   "source": [
    "### Exploratory Data Analysis"
   ]
  },
  {
   "cell_type": "code",
   "execution_count": 2,
   "id": "be516945",
   "metadata": {},
   "outputs": [
    {
     "data": {
      "text/html": [
       "<div>\n",
       "<style scoped>\n",
       "    .dataframe tbody tr th:only-of-type {\n",
       "        vertical-align: middle;\n",
       "    }\n",
       "\n",
       "    .dataframe tbody tr th {\n",
       "        vertical-align: top;\n",
       "    }\n",
       "\n",
       "    .dataframe thead th {\n",
       "        text-align: right;\n",
       "    }\n",
       "</style>\n",
       "<table border=\"1\" class=\"dataframe\">\n",
       "  <thead>\n",
       "    <tr style=\"text-align: right;\">\n",
       "      <th></th>\n",
       "      <th>index</th>\n",
       "      <th>brewery_id</th>\n",
       "      <th>brewery_name</th>\n",
       "      <th>review_time</th>\n",
       "      <th>review_overall</th>\n",
       "      <th>review_aroma</th>\n",
       "      <th>review_appearance</th>\n",
       "      <th>review_profilename</th>\n",
       "      <th>beer_style</th>\n",
       "      <th>review_palate</th>\n",
       "      <th>review_taste</th>\n",
       "      <th>beer_name</th>\n",
       "      <th>beer_abv</th>\n",
       "      <th>beer_beerid</th>\n",
       "    </tr>\n",
       "  </thead>\n",
       "  <tbody>\n",
       "    <tr>\n",
       "      <th>0</th>\n",
       "      <td>0</td>\n",
       "      <td>10325</td>\n",
       "      <td>Vecchio Birraio</td>\n",
       "      <td>1234817823</td>\n",
       "      <td>1.5</td>\n",
       "      <td>2.0</td>\n",
       "      <td>2.5</td>\n",
       "      <td>stcules</td>\n",
       "      <td>Hefeweizen</td>\n",
       "      <td>1.5</td>\n",
       "      <td>1.5</td>\n",
       "      <td>Sausa Weizen</td>\n",
       "      <td>5.0</td>\n",
       "      <td>47986</td>\n",
       "    </tr>\n",
       "    <tr>\n",
       "      <th>1</th>\n",
       "      <td>1</td>\n",
       "      <td>10325</td>\n",
       "      <td>Vecchio Birraio</td>\n",
       "      <td>1235915097</td>\n",
       "      <td>3.0</td>\n",
       "      <td>2.5</td>\n",
       "      <td>3.0</td>\n",
       "      <td>stcules</td>\n",
       "      <td>English Strong Ale</td>\n",
       "      <td>3.0</td>\n",
       "      <td>3.0</td>\n",
       "      <td>Red Moon</td>\n",
       "      <td>6.2</td>\n",
       "      <td>48213</td>\n",
       "    </tr>\n",
       "    <tr>\n",
       "      <th>2</th>\n",
       "      <td>2</td>\n",
       "      <td>10325</td>\n",
       "      <td>Vecchio Birraio</td>\n",
       "      <td>1235916604</td>\n",
       "      <td>3.0</td>\n",
       "      <td>2.5</td>\n",
       "      <td>3.0</td>\n",
       "      <td>stcules</td>\n",
       "      <td>Foreign / Export Stout</td>\n",
       "      <td>3.0</td>\n",
       "      <td>3.0</td>\n",
       "      <td>Black Horse Black Beer</td>\n",
       "      <td>6.5</td>\n",
       "      <td>48215</td>\n",
       "    </tr>\n",
       "    <tr>\n",
       "      <th>3</th>\n",
       "      <td>3</td>\n",
       "      <td>10325</td>\n",
       "      <td>Vecchio Birraio</td>\n",
       "      <td>1234725145</td>\n",
       "      <td>3.0</td>\n",
       "      <td>3.0</td>\n",
       "      <td>3.5</td>\n",
       "      <td>stcules</td>\n",
       "      <td>German Pilsener</td>\n",
       "      <td>2.5</td>\n",
       "      <td>3.0</td>\n",
       "      <td>Sausa Pils</td>\n",
       "      <td>5.0</td>\n",
       "      <td>47969</td>\n",
       "    </tr>\n",
       "    <tr>\n",
       "      <th>4</th>\n",
       "      <td>4</td>\n",
       "      <td>1075</td>\n",
       "      <td>Caldera Brewing Company</td>\n",
       "      <td>1293735206</td>\n",
       "      <td>4.0</td>\n",
       "      <td>4.5</td>\n",
       "      <td>4.0</td>\n",
       "      <td>johnmichaelsen</td>\n",
       "      <td>American Double / Imperial IPA</td>\n",
       "      <td>4.0</td>\n",
       "      <td>4.5</td>\n",
       "      <td>Cauldron DIPA</td>\n",
       "      <td>7.7</td>\n",
       "      <td>64883</td>\n",
       "    </tr>\n",
       "  </tbody>\n",
       "</table>\n",
       "</div>"
      ],
      "text/plain": [
       "   index  brewery_id             brewery_name  review_time  review_overall  \\\n",
       "0      0       10325          Vecchio Birraio   1234817823             1.5   \n",
       "1      1       10325          Vecchio Birraio   1235915097             3.0   \n",
       "2      2       10325          Vecchio Birraio   1235916604             3.0   \n",
       "3      3       10325          Vecchio Birraio   1234725145             3.0   \n",
       "4      4        1075  Caldera Brewing Company   1293735206             4.0   \n",
       "\n",
       "   review_aroma  review_appearance review_profilename  \\\n",
       "0           2.0                2.5            stcules   \n",
       "1           2.5                3.0            stcules   \n",
       "2           2.5                3.0            stcules   \n",
       "3           3.0                3.5            stcules   \n",
       "4           4.5                4.0     johnmichaelsen   \n",
       "\n",
       "                       beer_style  review_palate  review_taste  \\\n",
       "0                      Hefeweizen            1.5           1.5   \n",
       "1              English Strong Ale            3.0           3.0   \n",
       "2          Foreign / Export Stout            3.0           3.0   \n",
       "3                 German Pilsener            2.5           3.0   \n",
       "4  American Double / Imperial IPA            4.0           4.5   \n",
       "\n",
       "                beer_name  beer_abv  beer_beerid  \n",
       "0            Sausa Weizen       5.0        47986  \n",
       "1                Red Moon       6.2        48213  \n",
       "2  Black Horse Black Beer       6.5        48215  \n",
       "3              Sausa Pils       5.0        47969  \n",
       "4           Cauldron DIPA       7.7        64883  "
      ]
     },
     "execution_count": 2,
     "metadata": {},
     "output_type": "execute_result"
    }
   ],
   "source": [
    "# Importing the data set\n",
    "df = pd.read_csv('beer_reviews.csv')\n",
    "df.head()"
   ]
  },
  {
   "cell_type": "code",
   "execution_count": 3,
   "id": "91b2cab3",
   "metadata": {},
   "outputs": [
    {
     "name": "stdout",
     "output_type": "stream",
     "text": [
      "<class 'pandas.core.frame.DataFrame'>\n",
      "RangeIndex: 1586614 entries, 0 to 1586613\n",
      "Data columns (total 14 columns):\n",
      " #   Column              Non-Null Count    Dtype  \n",
      "---  ------              --------------    -----  \n",
      " 0   index               1586614 non-null  int64  \n",
      " 1   brewery_id          1586614 non-null  int64  \n",
      " 2   brewery_name        1586599 non-null  object \n",
      " 3   review_time         1586614 non-null  int64  \n",
      " 4   review_overall      1586614 non-null  float64\n",
      " 5   review_aroma        1586614 non-null  float64\n",
      " 6   review_appearance   1586614 non-null  float64\n",
      " 7   review_profilename  1586266 non-null  object \n",
      " 8   beer_style          1586614 non-null  object \n",
      " 9   review_palate       1586614 non-null  float64\n",
      " 10  review_taste        1586614 non-null  float64\n",
      " 11  beer_name           1586614 non-null  object \n",
      " 12  beer_abv            1518829 non-null  float64\n",
      " 13  beer_beerid         1586614 non-null  int64  \n",
      "dtypes: float64(6), int64(4), object(4)\n",
      "memory usage: 169.5+ MB\n"
     ]
    }
   ],
   "source": [
    "# Get information about the DataFrame\n",
    "df.info()"
   ]
  },
  {
   "cell_type": "code",
   "execution_count": 4,
   "id": "40b4297e",
   "metadata": {},
   "outputs": [
    {
     "name": "stdout",
     "output_type": "stream",
     "text": [
      "Index(['index', 'brewery_id', 'brewery_name', 'review_time', 'review_overall',\n",
      "       'review_aroma', 'review_appearance', 'review_profilename', 'beer_style',\n",
      "       'review_palate', 'review_taste', 'beer_name', 'beer_abv',\n",
      "       'beer_beerid'],\n",
      "      dtype='object')\n"
     ]
    }
   ],
   "source": [
    "# Print the keys used in the dataframe\n",
    "print(df.keys())"
   ]
  },
  {
   "cell_type": "code",
   "execution_count": 5,
   "id": "dc4e606a",
   "metadata": {},
   "outputs": [
    {
     "name": "stdout",
     "output_type": "stream",
     "text": [
      "              index    brewery_id   review_time  review_overall  review_aroma  \\\n",
      "count  1.586614e+06  1.586614e+06  1.586614e+06    1.586614e+06  1.586614e+06   \n",
      "mean   7.933065e+05  3.130099e+03  1.224089e+09    3.815581e+00  3.735636e+00   \n",
      "std    4.580162e+05  5.578104e+03  7.654427e+07    7.206219e-01  6.976167e-01   \n",
      "min    0.000000e+00  1.000000e+00  8.406720e+08    0.000000e+00  1.000000e+00   \n",
      "25%    3.966532e+05  1.430000e+02  1.173224e+09    3.500000e+00  3.500000e+00   \n",
      "50%    7.933065e+05  4.290000e+02  1.239203e+09    4.000000e+00  4.000000e+00   \n",
      "75%    1.189960e+06  2.372000e+03  1.288568e+09    4.500000e+00  4.000000e+00   \n",
      "max    1.586613e+06  2.800300e+04  1.326285e+09    5.000000e+00  5.000000e+00   \n",
      "\n",
      "       review_appearance  review_palate  review_taste      beer_abv  \\\n",
      "count       1.586614e+06   1.586614e+06  1.586614e+06  1.518829e+06   \n",
      "mean        3.841642e+00   3.743701e+00  3.792860e+00  7.042387e+00   \n",
      "std         6.160928e-01   6.822184e-01  7.319696e-01  2.322526e+00   \n",
      "min         0.000000e+00   1.000000e+00  1.000000e+00  1.000000e-02   \n",
      "25%         3.500000e+00   3.500000e+00  3.500000e+00  5.200000e+00   \n",
      "50%         4.000000e+00   4.000000e+00  4.000000e+00  6.500000e+00   \n",
      "75%         4.000000e+00   4.000000e+00  4.500000e+00  8.500000e+00   \n",
      "max         5.000000e+00   5.000000e+00  5.000000e+00  5.770000e+01   \n",
      "\n",
      "        beer_beerid  \n",
      "count  1.586614e+06  \n",
      "mean   2.171279e+04  \n",
      "std    2.181834e+04  \n",
      "min    3.000000e+00  \n",
      "25%    1.717000e+03  \n",
      "50%    1.390600e+04  \n",
      "75%    3.944100e+04  \n",
      "max    7.731700e+04  \n"
     ]
    }
   ],
   "source": [
    "# Describe the DataFrame\n",
    "print(df.describe())"
   ]
  },
  {
   "cell_type": "code",
   "execution_count": 6,
   "id": "8ac25605",
   "metadata": {},
   "outputs": [],
   "source": [
    "# Grabbing the columns that we need \n",
    "df_reviews = df[['review_overall','beer_style','review_profilename', 'beer_name']]"
   ]
  },
  {
   "cell_type": "code",
   "execution_count": 7,
   "id": "03abb903",
   "metadata": {},
   "outputs": [
    {
     "data": {
      "text/html": [
       "<div>\n",
       "<style scoped>\n",
       "    .dataframe tbody tr th:only-of-type {\n",
       "        vertical-align: middle;\n",
       "    }\n",
       "\n",
       "    .dataframe tbody tr th {\n",
       "        vertical-align: top;\n",
       "    }\n",
       "\n",
       "    .dataframe thead th {\n",
       "        text-align: right;\n",
       "    }\n",
       "</style>\n",
       "<table border=\"1\" class=\"dataframe\">\n",
       "  <thead>\n",
       "    <tr style=\"text-align: right;\">\n",
       "      <th></th>\n",
       "      <th>review_overall</th>\n",
       "      <th>beer_style</th>\n",
       "      <th>review_profilename</th>\n",
       "      <th>beer_name</th>\n",
       "    </tr>\n",
       "  </thead>\n",
       "  <tbody>\n",
       "    <tr>\n",
       "      <th>0</th>\n",
       "      <td>1.5</td>\n",
       "      <td>Hefeweizen</td>\n",
       "      <td>stcules</td>\n",
       "      <td>Sausa Weizen</td>\n",
       "    </tr>\n",
       "    <tr>\n",
       "      <th>1</th>\n",
       "      <td>3.0</td>\n",
       "      <td>English Strong Ale</td>\n",
       "      <td>stcules</td>\n",
       "      <td>Red Moon</td>\n",
       "    </tr>\n",
       "    <tr>\n",
       "      <th>2</th>\n",
       "      <td>3.0</td>\n",
       "      <td>Foreign / Export Stout</td>\n",
       "      <td>stcules</td>\n",
       "      <td>Black Horse Black Beer</td>\n",
       "    </tr>\n",
       "    <tr>\n",
       "      <th>3</th>\n",
       "      <td>3.0</td>\n",
       "      <td>German Pilsener</td>\n",
       "      <td>stcules</td>\n",
       "      <td>Sausa Pils</td>\n",
       "    </tr>\n",
       "    <tr>\n",
       "      <th>4</th>\n",
       "      <td>4.0</td>\n",
       "      <td>American Double / Imperial IPA</td>\n",
       "      <td>johnmichaelsen</td>\n",
       "      <td>Cauldron DIPA</td>\n",
       "    </tr>\n",
       "  </tbody>\n",
       "</table>\n",
       "</div>"
      ],
      "text/plain": [
       "   review_overall                      beer_style review_profilename  \\\n",
       "0             1.5                      Hefeweizen            stcules   \n",
       "1             3.0              English Strong Ale            stcules   \n",
       "2             3.0          Foreign / Export Stout            stcules   \n",
       "3             3.0                 German Pilsener            stcules   \n",
       "4             4.0  American Double / Imperial IPA     johnmichaelsen   \n",
       "\n",
       "                beer_name  \n",
       "0            Sausa Weizen  \n",
       "1                Red Moon  \n",
       "2  Black Horse Black Beer  \n",
       "3              Sausa Pils  \n",
       "4           Cauldron DIPA  "
      ]
     },
     "execution_count": 7,
     "metadata": {},
     "output_type": "execute_result"
    }
   ],
   "source": [
    "# Display the head of the new dataframe\n",
    "df_reviews.head()"
   ]
  },
  {
   "cell_type": "code",
   "execution_count": 8,
   "id": "2f6e4ed7",
   "metadata": {},
   "outputs": [
    {
     "data": {
      "text/plain": [
       "review_profilename\n",
       "northyorksammy    5817\n",
       "BuckeyeNation     4661\n",
       "mikesgroove       4617\n",
       "Thorpe429         3518\n",
       "womencantsail     3497\n",
       "NeroFiddled       3488\n",
       "ChainGangGuy      3471\n",
       "brentk56          3357\n",
       "Phyl21ca          3179\n",
       "WesWes            3168\n",
       "dtype: int64"
      ]
     },
     "execution_count": 8,
     "metadata": {},
     "output_type": "execute_result"
    }
   ],
   "source": [
    "# Loading the top 10 reviewers with the most reviews\n",
    "df.pivot_table(columns=['review_profilename'], aggfunc='size').sort_values(ascending=False).head(10)"
   ]
  },
  {
   "cell_type": "code",
   "execution_count": 9,
   "id": "c0492d95",
   "metadata": {},
   "outputs": [],
   "source": [
    "# Creating a new dataframe grouped by beer names\n",
    "popular = df[['beer_name','review_profilename']].groupby('beer_name').count().sort_values(['review_profilename'], ascending=False).reset_index()"
   ]
  },
  {
   "cell_type": "code",
   "execution_count": 10,
   "id": "abd1a679",
   "metadata": {},
   "outputs": [
    {
     "data": {
      "image/png": "[encoded data removed]",
      "text/plain": [
       "<Figure size 720x432 with 1 Axes>"
      ]
     },
     "metadata": {
      "needs_background": "light"
     },
     "output_type": "display_data"
    }
   ],
   "source": [
    "# Get the top 10 beer names with most reviewers\n",
    "top_10_beers = popular.head(10)\n",
    "\n",
    "# Create a list of colors\n",
    "colors = plt.cm.tab10(np.arange(len(top_10_beers)))\n",
    "\n",
    "# Create a bar graph with different colors for each bar\n",
    "plt.figure(figsize=(10, 6))\n",
    "bars = plt.bar(top_10_beers['beer_name'], top_10_beers['review_profilename'], color=colors)\n",
    "plt.xlabel('Beer Names')\n",
    "plt.ylabel('Number of Reviewers')\n",
    "plt.title('Top 10 Beers by Reviewers')\n",
    "plt.xticks(rotation=90)\n",
    "plt.tight_layout()\n",
    "\n",
    "# Adding a legend with beer names and colors outside the graph\n",
    "plt.legend(bars, top_10_beers['beer_name'], loc='upper left', bbox_to_anchor=(1, 1))\n",
    "plt.subplots_adjust(right=0.7)  # Adjust the space to accommodate the legend\n",
    "plt.show()"
   ]
  },
  {
   "cell_type": "code",
   "execution_count": 11,
   "id": "a4bad422",
   "metadata": {},
   "outputs": [
    {
     "data": {
      "text/html": [
       "<div>\n",
       "<style scoped>\n",
       "    .dataframe tbody tr th:only-of-type {\n",
       "        vertical-align: middle;\n",
       "    }\n",
       "\n",
       "    .dataframe tbody tr th {\n",
       "        vertical-align: top;\n",
       "    }\n",
       "\n",
       "    .dataframe thead th {\n",
       "        text-align: right;\n",
       "    }\n",
       "</style>\n",
       "<table border=\"1\" class=\"dataframe\">\n",
       "  <thead>\n",
       "    <tr style=\"text-align: right;\">\n",
       "      <th></th>\n",
       "      <th>review_overall</th>\n",
       "      <th>beer_style</th>\n",
       "      <th>review_profilename</th>\n",
       "      <th>beer_name</th>\n",
       "    </tr>\n",
       "  </thead>\n",
       "  <tbody>\n",
       "    <tr>\n",
       "      <th>0</th>\n",
       "      <td>1.5</td>\n",
       "      <td>Hefeweizen</td>\n",
       "      <td>stcules</td>\n",
       "      <td>Sausa Weizen</td>\n",
       "    </tr>\n",
       "    <tr>\n",
       "      <th>1</th>\n",
       "      <td>3.0</td>\n",
       "      <td>English Strong Ale</td>\n",
       "      <td>stcules</td>\n",
       "      <td>Red Moon</td>\n",
       "    </tr>\n",
       "    <tr>\n",
       "      <th>2</th>\n",
       "      <td>3.0</td>\n",
       "      <td>Foreign / Export Stout</td>\n",
       "      <td>stcules</td>\n",
       "      <td>Black Horse Black Beer</td>\n",
       "    </tr>\n",
       "    <tr>\n",
       "      <th>3</th>\n",
       "      <td>3.0</td>\n",
       "      <td>German Pilsener</td>\n",
       "      <td>stcules</td>\n",
       "      <td>Sausa Pils</td>\n",
       "    </tr>\n",
       "    <tr>\n",
       "      <th>1551</th>\n",
       "      <td>4.0</td>\n",
       "      <td>Munich Dunkel Lager</td>\n",
       "      <td>stcules</td>\n",
       "      <td>Kollers Naturtrüb Dunkel</td>\n",
       "    </tr>\n",
       "    <tr>\n",
       "      <th>...</th>\n",
       "      <td>...</td>\n",
       "      <td>...</td>\n",
       "      <td>...</td>\n",
       "      <td>...</td>\n",
       "    </tr>\n",
       "    <tr>\n",
       "      <th>1584791</th>\n",
       "      <td>4.0</td>\n",
       "      <td>Oatmeal Stout</td>\n",
       "      <td>stcules</td>\n",
       "      <td>Black Mamba</td>\n",
       "    </tr>\n",
       "    <tr>\n",
       "      <th>1584792</th>\n",
       "      <td>4.0</td>\n",
       "      <td>Belgian Pale Ale</td>\n",
       "      <td>stcules</td>\n",
       "      <td>Ley Line</td>\n",
       "    </tr>\n",
       "    <tr>\n",
       "      <th>1586165</th>\n",
       "      <td>2.0</td>\n",
       "      <td>Bock</td>\n",
       "      <td>stcules</td>\n",
       "      <td>Vølenbock</td>\n",
       "    </tr>\n",
       "    <tr>\n",
       "      <th>1586297</th>\n",
       "      <td>3.5</td>\n",
       "      <td>Munich Dunkel Lager</td>\n",
       "      <td>stcules</td>\n",
       "      <td>Lasser Dunkel</td>\n",
       "    </tr>\n",
       "    <tr>\n",
       "      <th>1586299</th>\n",
       "      <td>4.0</td>\n",
       "      <td>German Pilsener</td>\n",
       "      <td>stcules</td>\n",
       "      <td>Lasser Premium Pils</td>\n",
       "    </tr>\n",
       "  </tbody>\n",
       "</table>\n",
       "<p>1788 rows × 4 columns</p>\n",
       "</div>"
      ],
      "text/plain": [
       "         review_overall              beer_style review_profilename  \\\n",
       "0                   1.5              Hefeweizen            stcules   \n",
       "1                   3.0      English Strong Ale            stcules   \n",
       "2                   3.0  Foreign / Export Stout            stcules   \n",
       "3                   3.0         German Pilsener            stcules   \n",
       "1551                4.0     Munich Dunkel Lager            stcules   \n",
       "...                 ...                     ...                ...   \n",
       "1584791             4.0           Oatmeal Stout            stcules   \n",
       "1584792             4.0        Belgian Pale Ale            stcules   \n",
       "1586165             2.0                    Bock            stcules   \n",
       "1586297             3.5     Munich Dunkel Lager            stcules   \n",
       "1586299             4.0         German Pilsener            stcules   \n",
       "\n",
       "                        beer_name  \n",
       "0                    Sausa Weizen  \n",
       "1                        Red Moon  \n",
       "2          Black Horse Black Beer  \n",
       "3                      Sausa Pils  \n",
       "1551     Kollers Naturtrüb Dunkel  \n",
       "...                           ...  \n",
       "1584791               Black Mamba  \n",
       "1584792                  Ley Line  \n",
       "1586165                 Vølenbock  \n",
       "1586297             Lasser Dunkel  \n",
       "1586299       Lasser Premium Pils  \n",
       "\n",
       "[1788 rows x 4 columns]"
      ]
     },
     "execution_count": 11,
     "metadata": {},
     "output_type": "execute_result"
    }
   ],
   "source": [
    "# Filtering all the reviews made by user stcules\n",
    "df_reviews[df_reviews['review_profilename']=='stcules']"
   ]
  },
  {
   "cell_type": "code",
   "execution_count": 12,
   "id": "351d9aa5",
   "metadata": {},
   "outputs": [
    {
     "data": {
      "image/png": "[encoded data removed]",
      "text/plain": [
       "<Figure size 432x432 with 1 Axes>"
      ]
     },
     "metadata": {},
     "output_type": "display_data"
    }
   ],
   "source": [
    "# Filter reviews made by user 'stcules'\n",
    "user_reviews = df_reviews[df_reviews['review_profilename'] == 'stcules']\n",
    "\n",
    "# Define the thresholds for positive and negative reviews\n",
    "positive_threshold = 3\n",
    "\n",
    "# Calculate the counts of positive and negative reviews\n",
    "positive_reviews = user_reviews[user_reviews['review_overall'] > positive_threshold]\n",
    "negative_reviews = user_reviews[user_reviews['review_overall'] <= positive_threshold]\n",
    "\n",
    "# Calculate the percentages\n",
    "total_reviews = len(user_reviews)\n",
    "percentage_positive = len(positive_reviews) / total_reviews * 100\n",
    "percentage_negative = len(negative_reviews) / total_reviews * 100\n",
    "\n",
    "# Plotting the percentages\n",
    "labels = ['Positive Reviews', 'Negative Reviews']\n",
    "sizes = [percentage_positive, percentage_negative]\n",
    "colors = ['lightgreen', 'salmon']\n",
    "\n",
    "plt.figure(figsize=(6, 6))\n",
    "plt.pie(sizes, labels=labels, colors=colors, autopct='%1.1f%%', startangle=140)\n",
    "plt.title('Percentage of Positive and Negative Reviews by stcules')\n",
    "plt.axis('equal')\n",
    "plt.show()"
   ]
  },
  {
   "cell_type": "markdown",
   "id": "bce99abf",
   "metadata": {},
   "source": [
    "<h3> Plotting the Total Reviews</h3>"
   ]
  },
  {
   "cell_type": "code",
   "execution_count": 13,
   "id": "8c102e2c",
   "metadata": {},
   "outputs": [
    {
     "data": {
      "image/png": "[encoded data removed]",
      "text/plain": [
       "<Figure size 432x288 with 1 Axes>"
      ]
     },
     "metadata": {
      "needs_background": "light"
     },
     "output_type": "display_data"
    }
   ],
   "source": [
    "fig, axs = plt.subplots(sharey=True, tight_layout=True)\n",
    "axs.hist(df_reviews['review_overall'],bins=5)\n",
    "plt.xlim([1, 5])\n",
    "plt.xticks(np.arange(1, 6, 1))\n",
    "plt.title('Totel Reviews')\n",
    "plt.show()"
   ]
  },
  {
   "cell_type": "markdown",
   "id": "e3db13a5",
   "metadata": {},
   "source": [
    "<h3>Changing the Scores into Positive and Negative Values</h3>"
   ]
  },
  {
   "cell_type": "code",
   "execution_count": 14,
   "id": "832f08a4",
   "metadata": {},
   "outputs": [],
   "source": [
    "df_reviews['Polarity_Rating'] = df_reviews['review_overall'].apply(lambda x: 'Positive' if x > 3.0 else 'Negative')"
   ]
  },
  {
   "cell_type": "code",
   "execution_count": 15,
   "id": "02dbcc75",
   "metadata": {},
   "outputs": [
    {
     "data": {
      "text/plain": [
       "<AxesSubplot:xlabel='Polarity_Rating', ylabel='count'>"
      ]
     },
     "execution_count": 15,
     "metadata": {},
     "output_type": "execute_result"
    },
    {
     "data": {
      "image/png": "[encoded data removed]",
      "text/plain": [
       "<Figure size 432x288 with 1 Axes>"
      ]
     },
     "metadata": {
      "needs_background": "light"
     },
     "output_type": "display_data"
    }
   ],
   "source": [
    "# Plotting the ratio of positive and negative reviews\n",
    "sns.countplot(data = df_reviews, x= 'Polarity_Rating')"
   ]
  },
  {
   "cell_type": "code",
   "execution_count": 16,
   "id": "057c952a",
   "metadata": {},
   "outputs": [
    {
     "name": "stdout",
     "output_type": "stream",
     "text": [
      "Positive    1300286\n",
      "Negative     286328\n",
      "Name: Polarity_Rating, dtype: int64\n"
     ]
    }
   ],
   "source": [
    "# Showing the total number of reviews based on how many positive and negative reviews there are\n",
    "polarity_counts = df_reviews['Polarity_Rating'].value_counts()\n",
    "print(polarity_counts)"
   ]
  },
  {
   "cell_type": "code",
   "execution_count": 17,
   "id": "fbdd9a2d",
   "metadata": {},
   "outputs": [
    {
     "data": {
      "image/png": "[encoded data removed]",
      "text/plain": [
       "<Figure size 576x432 with 1 Axes>"
      ]
     },
     "metadata": {
      "needs_background": "light"
     },
     "output_type": "display_data"
    }
   ],
   "source": [
    "# Plotting the count of positive and negative reviews\n",
    "plt.figure(figsize=(8, 6))\n",
    "polarity_counts.plot(kind='bar', color=['blue', 'red'])\n",
    "plt.title('Count of Positive and Negative Reviews')\n",
    "plt.xlabel('Polarity')\n",
    "plt.ylabel('Count')\n",
    "plt.xticks(rotation=0)\n",
    "\n",
    "# Displaying raw counts on y-axis\n",
    "plt.ylim(0, max(polarity_counts) * 1.1)  # Set y-axis limit slightly higher than the maximum count\n",
    "plt.yticks(range(0, max(polarity_counts) + 100000, 200000))  # Adjust y-tick marks to suit the count range\n",
    "\n",
    "plt.show()"
   ]
  },
  {
   "cell_type": "markdown",
   "id": "430fdd3e",
   "metadata": {},
   "source": [
    "<h3>We see there are many more positive reviews than negative reviews, so we will take just a sample of these reviews to run our model on. In this case, we will take a sample of 5000 positive and negative reviews</h3>"
   ]
  },
  {
   "cell_type": "code",
   "execution_count": 18,
   "id": "4d950130",
   "metadata": {},
   "outputs": [
    {
     "data": {
      "text/plain": [
       "286328"
      ]
     },
     "execution_count": 18,
     "metadata": {},
     "output_type": "execute_result"
    }
   ],
   "source": [
    "df_reviews[df_reviews['Polarity_Rating'] == 'Negative'].shape[0]"
   ]
  },
  {
   "cell_type": "code",
   "execution_count": 19,
   "id": "293b9d02",
   "metadata": {},
   "outputs": [],
   "source": [
    "# Filter positive and negative reviews separately\n",
    "positive_reviews = df_reviews[df_reviews['Polarity_Rating'] == 'Positive']\n",
    "negative_reviews = df_reviews[df_reviews['Polarity_Rating'] == 'Negative']\n",
    "\n",
    "# Take a random sample of 5000 from each category\n",
    "positive_sample = positive_reviews.sample(n=5000, random_state=42)\n",
    "negative_sample = negative_reviews.sample(n=5000, random_state=42)\n",
    "\n",
    "# Concatenate the samples\n",
    "sampled_reviews = pd.concat([positive_sample, negative_sample])\n",
    "\n",
    "# Select columns of interest (names of beers and review text)\n",
    "sampled_data = sampled_reviews[['beer_name', 'review_overall', 'Polarity_Rating']]\n",
    "\n",
    "# Reset the index of the new DataFrame\n",
    "sampled_data.reset_index(drop=True, inplace=True)"
   ]
  },
  {
   "cell_type": "code",
   "execution_count": 20,
   "id": "9297eefb",
   "metadata": {},
   "outputs": [],
   "source": [
    "# Setting the stop words in case these show up in the beer names\n",
    "english_stops = set(stopwords.words('english'))"
   ]
  },
  {
   "cell_type": "markdown",
   "id": "d32d96e4",
   "metadata": {},
   "source": [
    "<h3>Cleaning and splitting the data into beer names and polarity ratings</h3>"
   ]
  },
  {
   "cell_type": "code",
   "execution_count": 21,
   "id": "2e6c3416",
   "metadata": {},
   "outputs": [],
   "source": [
    "x_data = sampled_data['beer_name']  # Input: beer names\n",
    "y_data = sampled_data['Polarity_Rating']  # Output: Sentiment labels\n",
    "\n",
    "# ENCODE SENTIMENT -> 0 & 1\n",
    "y_data = y_data.replace('Positive', 1)\n",
    "y_data = y_data.replace('Negative', 0)"
   ]
  },
  {
   "cell_type": "markdown",
   "id": "72341f90",
   "metadata": {},
   "source": [
    "<h3>Splitting the dataset for training</h3>"
   ]
  },
  {
   "cell_type": "code",
   "execution_count": 22,
   "id": "62e5f2ae",
   "metadata": {},
   "outputs": [],
   "source": [
    "X_train, X_test, y_train, y_test = train_test_split(x_data, y_data, test_size=0.2, random_state=42)"
   ]
  },
  {
   "cell_type": "markdown",
   "id": "6a6d335b",
   "metadata": {},
   "source": [
    "<h3>Making a function to get the max length for padding</h3>"
   ]
  },
  {
   "cell_type": "code",
   "execution_count": 23,
   "id": "332181d6",
   "metadata": {},
   "outputs": [
    {
     "name": "stdout",
     "output_type": "stream",
     "text": [
      "4\n"
     ]
    }
   ],
   "source": [
    "# Define a function named 'get_max_length' that takes 'x_train' as input\n",
    "def get_max_length(x_train):\n",
    "    # Create a list 'review_length' containing the length of each review after splitting by words\n",
    "    review_length = [len(review.split()) for review in x_train]\n",
    "    \n",
    "    # Calculate the mean (average) length of reviews and round it up to the nearest integer\n",
    "    # 'np.mean' calculates the mean of the list 'review_length'\n",
    "    # 'np.ceil' rounds the result up to the nearest integer\n",
    "    return int(np.ceil(np.mean(review_length)))\n",
    "\n",
    "# Call the 'get_max_length' function passing 'X_train' as an argument and store the result in 'max_length'\n",
    "max_length = get_max_length(X_train)\n",
    "\n",
    "# Print the calculated maximum length of reviews\n",
    "print(max_length)"
   ]
  },
  {
   "cell_type": "markdown",
   "id": "280fd8e2",
   "metadata": {},
   "source": [
    "<h3>Loading the Tokenizer to convert the words into sequences and then add the padding to make the rows equal lenght.</h3>"
   ]
  },
  {
   "cell_type": "code",
   "execution_count": 24,
   "id": "1101863c",
   "metadata": {},
   "outputs": [],
   "source": [
    "# Encode beer name\n",
    "token = Tokenizer(lower=False)  # Initialize a Tokenizer object with 'lower=False' to preserve case sensitivity\n",
    "token.fit_on_texts(X_train)    # Fit the tokenizer on the training data\n",
    "x_train = token.texts_to_sequences(X_train)  # Convert text in training data to sequences\n",
    "x_test = token.texts_to_sequences(X_test)    # Convert text in testing data to sequences\n",
    "\n",
    "# Apply padding to the sequences in the training data\n",
    "x_train = pad_sequences(x_train, maxlen=max_length, padding='post', truncating='post')\n",
    "\n",
    "# Apply padding to the sequences in the testing data\n",
    "x_test = pad_sequences(x_test, maxlen=max_length, padding='post', truncating='post')\n",
    "\n",
    "# Calculate the total number of unique words in the tokenizer's word index and add 1 for padding\n",
    "total_words = len(token.word_index) + 1\n"
   ]
  },
  {
   "cell_type": "markdown",
   "id": "a5baf412",
   "metadata": {},
   "source": [
    "<h3>Building the RNN with LSTM Model </h3>"
   ]
  },
  {
   "cell_type": "code",
   "execution_count": 25,
   "id": "ee844b99",
   "metadata": {},
   "outputs": [],
   "source": [
    "# ARCHITECTURE\n",
    "EMBED_DIM = 3200  # Define the embedding dimension\n",
    "LSTM_OUT = 64     # Define the number of LSTM units\n",
    "\n",
    "model = Sequential()  # Initialize a Sequential model\n",
    "\n",
    "# Add an Embedding layer to the model\n",
    "# Embedding layer maps words to dense vectors of fixed size\n",
    "# total_words: Total number of unique words in the vocabulary\n",
    "# EMBED_DIM: Dimension of the dense embedding\n",
    "# input_length: Length of input sequences (number of words in each sequence)\n",
    "model.add(Embedding(total_words, EMBED_DIM, input_length=max_length))\n",
    "\n",
    "# Add an LSTM layer to the model\n",
    "# LSTM layer with LSTM_OUT units (number of memory cells)\n",
    "model.add(LSTM(LSTM_OUT))\n",
    "\n",
    "# Add a Dense layer with a single output unit and sigmoid activation\n",
    "# Sigmoid activation is used for binary classification tasks\n",
    "model.add(Dense(units=1, activation='sigmoid'))\n",
    "\n",
    "# Compile the model with 'adam' optimizer, 'binary_crossentropy' loss function, and accuracy metric\n",
    "model.compile(optimizer='adam', loss='binary_crossentropy', metrics=['accuracy'])\n",
    "\n",
    "# Adding a Checkpoint to save the model when the accuracy improves\n",
    "# ModelCheckpoint saves the model with the best accuracy during training\n",
    "checkpoint = ModelCheckpoint('models/LSTM.h5', monitor='accuracy', save_best_only=True, verbose=1)"
   ]
  },
  {
   "cell_type": "markdown",
   "id": "c1bb41ed",
   "metadata": {},
   "source": [
    "<h3>Showing a summary of the model</h3>"
   ]
  },
  {
   "cell_type": "code",
   "execution_count": 26,
   "id": "6ee22746",
   "metadata": {},
   "outputs": [
    {
     "name": "stdout",
     "output_type": "stream",
     "text": [
      "Model: \"sequential\"\n",
      "_________________________________________________________________\n",
      " Layer (type)                Output Shape              Param #   \n",
      "=================================================================\n",
      " embedding (Embedding)       (None, 4, 3200)           13872000  \n",
      "                                                                 \n",
      " lstm (LSTM)                 (None, 64)                835840    \n",
      "                                                                 \n",
      " dense (Dense)               (None, 1)                 65        \n",
      "                                                                 \n",
      "=================================================================\n",
      "Total params: 14,707,905\n",
      "Trainable params: 14,707,905\n",
      "Non-trainable params: 0\n",
      "_________________________________________________________________\n"
     ]
    }
   ],
   "source": [
    "# Show a summary of the model\n",
    "model.summary()"
   ]
  },
  {
   "cell_type": "markdown",
   "id": "3bec26c0",
   "metadata": {},
   "source": [
    "<h3>Fitting the model</h3>"
   ]
  },
  {
   "cell_type": "code",
   "execution_count": 27,
   "id": "dde956d6",
   "metadata": {},
   "outputs": [
    {
     "name": "stdout",
     "output_type": "stream",
     "text": [
      "Epoch 1/10\n",
      "400/400 [==============================] - ETA: 0s - loss: 0.6605 - accuracy: 0.5985\n",
      "Epoch 00001: accuracy improved from -inf to 0.59850, saving model to models\\LSTM.h5\n",
      "400/400 [==============================] - 33s 81ms/step - loss: 0.6605 - accuracy: 0.5985 - val_loss: 0.6426 - val_accuracy: 0.6275\n",
      "Epoch 2/10\n",
      "400/400 [==============================] - ETA: 0s - loss: 0.5329 - accuracy: 0.7404\n",
      "Epoch 00002: accuracy improved from 0.59850 to 0.74037, saving model to models\\LSTM.h5\n",
      "400/400 [==============================] - 33s 83ms/step - loss: 0.5329 - accuracy: 0.7404 - val_loss: 0.6905 - val_accuracy: 0.6010\n",
      "Epoch 3/10\n",
      "400/400 [==============================] - ETA: 0s - loss: 0.4376 - accuracy: 0.7885\n",
      "Epoch 00003: accuracy improved from 0.74037 to 0.78850, saving model to models\\LSTM.h5\n",
      "400/400 [==============================] - 33s 83ms/step - loss: 0.4376 - accuracy: 0.7885 - val_loss: 0.7936 - val_accuracy: 0.5960\n",
      "Epoch 4/10\n",
      "400/400 [==============================] - ETA: 0s - loss: 0.3923 - accuracy: 0.8036\n",
      "Epoch 00004: accuracy improved from 0.78850 to 0.80362, saving model to models\\LSTM.h5\n",
      "400/400 [==============================] - 34s 84ms/step - loss: 0.3923 - accuracy: 0.8036 - val_loss: 0.8648 - val_accuracy: 0.6040\n",
      "Epoch 5/10\n",
      "400/400 [==============================] - ETA: 0s - loss: 0.3626 - accuracy: 0.8119\n",
      "Epoch 00005: accuracy improved from 0.80362 to 0.81187, saving model to models\\LSTM.h5\n",
      "400/400 [==============================] - 35s 88ms/step - loss: 0.3626 - accuracy: 0.8119 - val_loss: 0.9100 - val_accuracy: 0.6090\n",
      "Epoch 6/10\n",
      "400/400 [==============================] - ETA: 0s - loss: 0.3438 - accuracy: 0.8177\n",
      "Epoch 00006: accuracy improved from 0.81187 to 0.81775, saving model to models\\LSTM.h5\n",
      "400/400 [==============================] - 35s 87ms/step - loss: 0.3438 - accuracy: 0.8177 - val_loss: 1.0677 - val_accuracy: 0.6070\n",
      "Epoch 7/10\n",
      "400/400 [==============================] - ETA: 0s - loss: 0.3320 - accuracy: 0.8209\n",
      "Epoch 00007: accuracy improved from 0.81775 to 0.82087, saving model to models\\LSTM.h5\n",
      "400/400 [==============================] - 34s 86ms/step - loss: 0.3320 - accuracy: 0.8209 - val_loss: 1.1180 - val_accuracy: 0.6090\n",
      "Epoch 8/10\n",
      "400/400 [==============================] - ETA: 0s - loss: 0.3219 - accuracy: 0.8256\n",
      "Epoch 00008: accuracy improved from 0.82087 to 0.82563, saving model to models\\LSTM.h5\n",
      "400/400 [==============================] - 34s 84ms/step - loss: 0.3219 - accuracy: 0.8256 - val_loss: 1.1068 - val_accuracy: 0.6020\n",
      "Epoch 9/10\n",
      "400/400 [==============================] - ETA: 0s - loss: 0.3160 - accuracy: 0.8311\n",
      "Epoch 00009: accuracy improved from 0.82563 to 0.83113, saving model to models\\LSTM.h5\n",
      "400/400 [==============================] - 34s 85ms/step - loss: 0.3160 - accuracy: 0.8311 - val_loss: 1.1907 - val_accuracy: 0.6050\n",
      "Epoch 10/10\n",
      "400/400 [==============================] - ETA: 0s - loss: 0.3089 - accuracy: 0.8321\n",
      "Epoch 00010: accuracy improved from 0.83113 to 0.83213, saving model to models\\LSTM.h5\n",
      "400/400 [==============================] - 34s 85ms/step - loss: 0.3089 - accuracy: 0.8321 - val_loss: 1.2775 - val_accuracy: 0.6050\n"
     ]
    }
   ],
   "source": [
    "history = model.fit(x_train, y_train, epochs=10, batch_size=20, callbacks= [checkpoint],validation_data=(x_test, y_test))"
   ]
  },
  {
   "cell_type": "markdown",
   "id": "fb441d71",
   "metadata": {},
   "source": [
    "<h3>Plotting the loss</h3>"
   ]
  },
  {
   "cell_type": "code",
   "execution_count": 28,
   "id": "61cf5470",
   "metadata": {},
   "outputs": [
    {
     "data": {
      "text/plain": [
       "<matplotlib.legend.Legend at 0x185e43ad340>"
      ]
     },
     "execution_count": 28,
     "metadata": {},
     "output_type": "execute_result"
    },
    {
     "data": {
      "image/png": "[encoded data removed]",
      "text/plain": [
       "<Figure size 864x432 with 1 Axes>"
      ]
     },
     "metadata": {
      "needs_background": "light"
     },
     "output_type": "display_data"
    }
   ],
   "source": [
    "plt.figure(figsize=(12,6))\n",
    "plt.plot(model.history.history['loss'][:])\n",
    "plt.plot(model.history.history['val_loss'][:])\n",
    "plt.title('Model loss')\n",
    "plt.xlabel('epoch')\n",
    "plt.ylabel('loss (categorical_crossentropy)')\n",
    "plt.legend(['Train', 'Val'], loc='upper right')"
   ]
  },
  {
   "cell_type": "markdown",
   "id": "f6b53c02",
   "metadata": {},
   "source": [
    "<h3>Plotting the accuracy</h3>"
   ]
  },
  {
   "cell_type": "code",
   "execution_count": 29,
   "id": "a713ee30",
   "metadata": {},
   "outputs": [
    {
     "data": {
      "image/png": "[encoded data removed]",
      "text/plain": [
       "<Figure size 864x432 with 1 Axes>"
      ]
     },
     "metadata": {
      "needs_background": "light"
     },
     "output_type": "display_data"
    }
   ],
   "source": [
    "plt.figure(figsize=(12,6))\n",
    "plt.plot(model.history.history['accuracy'][:])\n",
    "plt.plot(model.history.history['val_accuracy'][:])\n",
    "plt.title('Model accuracy')\n",
    "plt.ylabel('Accuracy')\n",
    "plt.xlabel('Epoch')\n",
    "plt.legend(['Train', 'Val'], loc='upper right')\n",
    "plt.show()"
   ]
  },
  {
   "cell_type": "markdown",
   "id": "accb52c8",
   "metadata": {},
   "source": [
    "<h3>Testing the model</h3>"
   ]
  },
  {
   "cell_type": "code",
   "execution_count": 30,
   "id": "8d25c8ce",
   "metadata": {},
   "outputs": [
    {
     "data": {
      "text/plain": [
       "review_overall                            4.5\n",
       "beer_style            American Pale Ale (APA)\n",
       "review_profilename               indiapaleale\n",
       "beer_name                    Caldera Pale Ale\n",
       "Polarity_Rating                      Positive\n",
       "Name: 200, dtype: object"
      ]
     },
     "execution_count": 30,
     "metadata": {},
     "output_type": "execute_result"
    }
   ],
   "source": [
    "#I grab a random review from the dataframe\n",
    "value = 200\n",
    "df_reviews.iloc[value]"
   ]
  },
  {
   "cell_type": "code",
   "execution_count": 31,
   "id": "0a30c90b",
   "metadata": {},
   "outputs": [
    {
     "data": {
      "text/plain": [
       "'Caldera Pale Ale'"
      ]
     },
     "execution_count": 31,
     "metadata": {},
     "output_type": "execute_result"
    }
   ],
   "source": [
    "df_reviews.iloc[value]['beer_name']"
   ]
  },
  {
   "cell_type": "markdown",
   "id": "9be9be38",
   "metadata": {},
   "source": [
    "<h3>Cleaning the data before loading it to the model for prediction</h3>"
   ]
  },
  {
   "cell_type": "code",
   "execution_count": 32,
   "id": "62fa51c3",
   "metadata": {},
   "outputs": [],
   "source": [
    "# Accessing the 'beer_name' column of the DataFrame at index 'value'\n",
    "review = df_reviews.iloc[value]['beer_name']\n",
    "\n",
    "# Compile a regular expression to remove non-alphabetic characters and spaces\n",
    "regex = re.compile(r'[^a-zA-Z\\s]')\n",
    "\n",
    "# Apply the regular expression substitution to remove non-alphabetic characters\n",
    "review = regex.sub('', review)\n",
    "\n",
    "# Split the 'review' text into a list of words\n",
    "words = review.split(' ')\n",
    "\n",
    "# Filtering out words that are in the 'english_stops' list (stopwords)\n",
    "filtered = [w for w in words if w not in english_stops]\n",
    "\n",
    "# Joining the filtered words back into a single string\n",
    "filtered = ' '.join(filtered)\n",
    "\n",
    "# Converting the filtered text to lowercase and storing it as a list\n",
    "filtered = [filtered.lower()]"
   ]
  },
  {
   "cell_type": "markdown",
   "id": "6cc64419",
   "metadata": {},
   "source": [
    "<h3>Tokenize and encode the words so they can be loaded into the model for prediction</h3>"
   ]
  },
  {
   "cell_type": "code",
   "execution_count": 33,
   "id": "73bdc818",
   "metadata": {},
   "outputs": [],
   "source": [
    "# Tokenizing the filtered text using the Tokenizer's texts_to_sequences method\n",
    "tokenize_words = token.texts_to_sequences(filtered)\n",
    "\n",
    "# Padding the tokenized sequences to a fixed length (max_length)\n",
    "# 'post' padding adds zeros at the end if the sequence is shorter than max_length\n",
    "# 'truncating='post'' truncates sequences longer than max_length from the end\n",
    "tokenize_words = pad_sequences(tokenize_words, maxlen=max_length, padding='post', truncating='post')"
   ]
  },
  {
   "cell_type": "code",
   "execution_count": 34,
   "id": "a2518da9",
   "metadata": {},
   "outputs": [
    {
     "name": "stdout",
     "output_type": "stream",
     "text": [
      "Negative\n"
     ]
    }
   ],
   "source": [
    "# Making predictions on tokenized and padded words using the trained model\n",
    "result = model.predict(tokenize_words)\n",
    "\n",
    "# Checking the predicted result probability and classifying as Positive or Negative\n",
    "if result >= 0.50:\n",
    "    print('Positive')\n",
    "else:\n",
    "    print('Negative')"
   ]
  },
  {
   "cell_type": "markdown",
   "id": "6a263c95",
   "metadata": {},
   "source": [
    "<h3>Preparing to train the model for recommedation </h3>"
   ]
  },
  {
   "cell_type": "code",
   "execution_count": 35,
   "id": "c5300988",
   "metadata": {},
   "outputs": [],
   "source": [
    "# Making unique numeric IDs for all the users\n",
    "df_reviews['UserID'] = pd.factorize(df_reviews['review_profilename'])[0] + 1"
   ]
  },
  {
   "cell_type": "code",
   "execution_count": 36,
   "id": "e5f913d1",
   "metadata": {},
   "outputs": [
    {
     "data": {
      "text/html": [
       "<div>\n",
       "<style scoped>\n",
       "    .dataframe tbody tr th:only-of-type {\n",
       "        vertical-align: middle;\n",
       "    }\n",
       "\n",
       "    .dataframe tbody tr th {\n",
       "        vertical-align: top;\n",
       "    }\n",
       "\n",
       "    .dataframe thead th {\n",
       "        text-align: right;\n",
       "    }\n",
       "</style>\n",
       "<table border=\"1\" class=\"dataframe\">\n",
       "  <thead>\n",
       "    <tr style=\"text-align: right;\">\n",
       "      <th></th>\n",
       "      <th>review_overall</th>\n",
       "      <th>beer_style</th>\n",
       "      <th>review_profilename</th>\n",
       "      <th>beer_name</th>\n",
       "      <th>Polarity_Rating</th>\n",
       "      <th>UserID</th>\n",
       "    </tr>\n",
       "  </thead>\n",
       "  <tbody>\n",
       "    <tr>\n",
       "      <th>45</th>\n",
       "      <td>3.5</td>\n",
       "      <td>Rauchbier</td>\n",
       "      <td>beagle75</td>\n",
       "      <td>Rauch Ür Bock</td>\n",
       "      <td>Positive</td>\n",
       "      <td>42</td>\n",
       "    </tr>\n",
       "    <tr>\n",
       "      <th>691</th>\n",
       "      <td>4.0</td>\n",
       "      <td>American IPA</td>\n",
       "      <td>beagle75</td>\n",
       "      <td>Caldera IPA</td>\n",
       "      <td>Positive</td>\n",
       "      <td>42</td>\n",
       "    </tr>\n",
       "    <tr>\n",
       "      <th>756</th>\n",
       "      <td>3.5</td>\n",
       "      <td>American IPA</td>\n",
       "      <td>beagle75</td>\n",
       "      <td>Hopportunity Knocks</td>\n",
       "      <td>Positive</td>\n",
       "      <td>42</td>\n",
       "    </tr>\n",
       "    <tr>\n",
       "      <th>907</th>\n",
       "      <td>4.5</td>\n",
       "      <td>American Porter</td>\n",
       "      <td>beagle75</td>\n",
       "      <td>Mogli</td>\n",
       "      <td>Positive</td>\n",
       "      <td>42</td>\n",
       "    </tr>\n",
       "    <tr>\n",
       "      <th>2894</th>\n",
       "      <td>2.0</td>\n",
       "      <td>American Double / Imperial IPA</td>\n",
       "      <td>beagle75</td>\n",
       "      <td>Hop Dam Triple IPA</td>\n",
       "      <td>Negative</td>\n",
       "      <td>42</td>\n",
       "    </tr>\n",
       "  </tbody>\n",
       "</table>\n",
       "</div>"
      ],
      "text/plain": [
       "      review_overall                      beer_style review_profilename  \\\n",
       "45               3.5                       Rauchbier           beagle75   \n",
       "691              4.0                    American IPA           beagle75   \n",
       "756              3.5                    American IPA           beagle75   \n",
       "907              4.5                 American Porter           beagle75   \n",
       "2894             2.0  American Double / Imperial IPA           beagle75   \n",
       "\n",
       "                beer_name Polarity_Rating  UserID  \n",
       "45          Rauch Ür Bock        Positive      42  \n",
       "691           Caldera IPA        Positive      42  \n",
       "756   Hopportunity Knocks        Positive      42  \n",
       "907                 Mogli        Positive      42  \n",
       "2894   Hop Dam Triple IPA        Negative      42  "
      ]
     },
     "execution_count": 36,
     "metadata": {},
     "output_type": "execute_result"
    }
   ],
   "source": [
    "df_reviews[df_reviews['UserID'] == 42].head()"
   ]
  },
  {
   "cell_type": "code",
   "execution_count": 37,
   "id": "9cdc199d",
   "metadata": {},
   "outputs": [
    {
     "name": "stdout",
     "output_type": "stream",
     "text": [
      "Removed Dulipcated, Total Reviews 33388\n",
      "Total Reviews 1586614\n"
     ]
    }
   ],
   "source": [
    "# Cleaning the dataset more to remove duplicate reviews\n",
    "cleaned = df_reviews.drop_duplicates(subset=['UserID'], keep='last')\n",
    "\n",
    "print('Removed Dulipcated, Total Reviews {}'.format(cleaned.shape[0]))\n",
    "print('Total Reviews {}'.format(df_reviews.shape[0]))"
   ]
  },
  {
   "cell_type": "code",
   "execution_count": 38,
   "id": "5736c9ab",
   "metadata": {},
   "outputs": [
    {
     "data": {
      "text/html": [
       "<div>\n",
       "<style scoped>\n",
       "    .dataframe tbody tr th:only-of-type {\n",
       "        vertical-align: middle;\n",
       "    }\n",
       "\n",
       "    .dataframe tbody tr th {\n",
       "        vertical-align: top;\n",
       "    }\n",
       "\n",
       "    .dataframe thead th {\n",
       "        text-align: right;\n",
       "    }\n",
       "</style>\n",
       "<table border=\"1\" class=\"dataframe\">\n",
       "  <thead>\n",
       "    <tr style=\"text-align: right;\">\n",
       "      <th></th>\n",
       "      <th>review_overall</th>\n",
       "      <th>beer_style</th>\n",
       "      <th>review_profilename</th>\n",
       "      <th>beer_name</th>\n",
       "      <th>Polarity_Rating</th>\n",
       "      <th>UserID</th>\n",
       "    </tr>\n",
       "  </thead>\n",
       "  <tbody>\n",
       "    <tr>\n",
       "      <th>43</th>\n",
       "      <td>4.0</td>\n",
       "      <td>Rauchbier</td>\n",
       "      <td>Mattybeerguy</td>\n",
       "      <td>Rauch Ür Bock</td>\n",
       "      <td>Positive</td>\n",
       "      <td>40</td>\n",
       "    </tr>\n",
       "    <tr>\n",
       "      <th>331</th>\n",
       "      <td>4.0</td>\n",
       "      <td>American Blonde Ale</td>\n",
       "      <td>brianairb85</td>\n",
       "      <td>Caldera Rose Petal (Kettle Series)</td>\n",
       "      <td>Positive</td>\n",
       "      <td>262</td>\n",
       "    </tr>\n",
       "    <tr>\n",
       "      <th>341</th>\n",
       "      <td>4.5</td>\n",
       "      <td>American IPA</td>\n",
       "      <td>alabamatie</td>\n",
       "      <td>Caldera IPA</td>\n",
       "      <td>Positive</td>\n",
       "      <td>268</td>\n",
       "    </tr>\n",
       "    <tr>\n",
       "      <th>350</th>\n",
       "      <td>3.0</td>\n",
       "      <td>Euro Pale Lager</td>\n",
       "      <td>kww</td>\n",
       "      <td>Amstel Bright</td>\n",
       "      <td>Negative</td>\n",
       "      <td>275</td>\n",
       "    </tr>\n",
       "    <tr>\n",
       "      <th>466</th>\n",
       "      <td>4.0</td>\n",
       "      <td>American IPA</td>\n",
       "      <td>PeteVenkman</td>\n",
       "      <td>Caldera IPA</td>\n",
       "      <td>Positive</td>\n",
       "      <td>359</td>\n",
       "    </tr>\n",
       "  </tbody>\n",
       "</table>\n",
       "</div>"
      ],
      "text/plain": [
       "     review_overall           beer_style review_profilename  \\\n",
       "43              4.0            Rauchbier       Mattybeerguy   \n",
       "331             4.0  American Blonde Ale        brianairb85   \n",
       "341             4.5         American IPA         alabamatie   \n",
       "350             3.0      Euro Pale Lager                kww   \n",
       "466             4.0         American IPA        PeteVenkman   \n",
       "\n",
       "                              beer_name Polarity_Rating  UserID  \n",
       "43                        Rauch Ür Bock        Positive      40  \n",
       "331  Caldera Rose Petal (Kettle Series)        Positive     262  \n",
       "341                         Caldera IPA        Positive     268  \n",
       "350                       Amstel Bright        Negative     275  \n",
       "466                         Caldera IPA        Positive     359  "
      ]
     },
     "execution_count": 38,
     "metadata": {},
     "output_type": "execute_result"
    }
   ],
   "source": [
    "# Show the cleaned dataset head\n",
    "cleaned.head()"
   ]
  },
  {
   "cell_type": "code",
   "execution_count": 39,
   "id": "88df3b62",
   "metadata": {},
   "outputs": [],
   "source": [
    "user_rating_df = cleaned.pivot(index='UserID', columns='beer_name', values='review_overall')"
   ]
  },
  {
   "cell_type": "code",
   "execution_count": 40,
   "id": "8d7cb2b0",
   "metadata": {},
   "outputs": [
    {
     "data": {
      "text/html": [
       "<div>\n",
       "<style scoped>\n",
       "    .dataframe tbody tr th:only-of-type {\n",
       "        vertical-align: middle;\n",
       "    }\n",
       "\n",
       "    .dataframe tbody tr th {\n",
       "        vertical-align: top;\n",
       "    }\n",
       "\n",
       "    .dataframe thead th {\n",
       "        text-align: right;\n",
       "    }\n",
       "</style>\n",
       "<table border=\"1\" class=\"dataframe\">\n",
       "  <thead>\n",
       "    <tr style=\"text-align: right;\">\n",
       "      <th>beer_name</th>\n",
       "      <th>\"M\"-perial Stout</th>\n",
       "      <th>\"Shabadoo\" Black &amp; Tan Ale</th>\n",
       "      <th>#9</th>\n",
       "      <th>'Pooya Porter</th>\n",
       "      <th>'t Gaverhopke Extra</th>\n",
       "      <th>'t Smisje Blond</th>\n",
       "      <th>'t Smisje Dubbel</th>\n",
       "      <th>'t Smisje Halloween</th>\n",
       "      <th>'t Smisje IPA+</th>\n",
       "      <th>(512) Black IPA</th>\n",
       "      <th>...</th>\n",
       "      <th>Åbro Kung 5,2%</th>\n",
       "      <th>Ægir Sumbel Porter</th>\n",
       "      <th>Édition 2005</th>\n",
       "      <th>Éphémère (Apple)</th>\n",
       "      <th>Éphémère (Cassis / Black Currant)</th>\n",
       "      <th>Érable Rouge</th>\n",
       "      <th>Ølfabrikken Brown Ale</th>\n",
       "      <th>Ølfabrikken Kloster Jul</th>\n",
       "      <th>Über Oktolager</th>\n",
       "      <th>ÜberSun (Imperial Summer Wheat Beer)</th>\n",
       "    </tr>\n",
       "    <tr>\n",
       "      <th>UserID</th>\n",
       "      <th></th>\n",
       "      <th></th>\n",
       "      <th></th>\n",
       "      <th></th>\n",
       "      <th></th>\n",
       "      <th></th>\n",
       "      <th></th>\n",
       "      <th></th>\n",
       "      <th></th>\n",
       "      <th></th>\n",
       "      <th></th>\n",
       "      <th></th>\n",
       "      <th></th>\n",
       "      <th></th>\n",
       "      <th></th>\n",
       "      <th></th>\n",
       "      <th></th>\n",
       "      <th></th>\n",
       "      <th></th>\n",
       "      <th></th>\n",
       "      <th></th>\n",
       "    </tr>\n",
       "  </thead>\n",
       "  <tbody>\n",
       "    <tr>\n",
       "      <th>0</th>\n",
       "      <td>NaN</td>\n",
       "      <td>NaN</td>\n",
       "      <td>NaN</td>\n",
       "      <td>NaN</td>\n",
       "      <td>NaN</td>\n",
       "      <td>NaN</td>\n",
       "      <td>NaN</td>\n",
       "      <td>NaN</td>\n",
       "      <td>NaN</td>\n",
       "      <td>NaN</td>\n",
       "      <td>...</td>\n",
       "      <td>NaN</td>\n",
       "      <td>NaN</td>\n",
       "      <td>NaN</td>\n",
       "      <td>NaN</td>\n",
       "      <td>NaN</td>\n",
       "      <td>NaN</td>\n",
       "      <td>NaN</td>\n",
       "      <td>NaN</td>\n",
       "      <td>NaN</td>\n",
       "      <td>NaN</td>\n",
       "    </tr>\n",
       "    <tr>\n",
       "      <th>1</th>\n",
       "      <td>NaN</td>\n",
       "      <td>NaN</td>\n",
       "      <td>NaN</td>\n",
       "      <td>NaN</td>\n",
       "      <td>NaN</td>\n",
       "      <td>NaN</td>\n",
       "      <td>NaN</td>\n",
       "      <td>NaN</td>\n",
       "      <td>NaN</td>\n",
       "      <td>NaN</td>\n",
       "      <td>...</td>\n",
       "      <td>NaN</td>\n",
       "      <td>NaN</td>\n",
       "      <td>NaN</td>\n",
       "      <td>NaN</td>\n",
       "      <td>NaN</td>\n",
       "      <td>NaN</td>\n",
       "      <td>NaN</td>\n",
       "      <td>NaN</td>\n",
       "      <td>NaN</td>\n",
       "      <td>NaN</td>\n",
       "    </tr>\n",
       "    <tr>\n",
       "      <th>2</th>\n",
       "      <td>NaN</td>\n",
       "      <td>NaN</td>\n",
       "      <td>NaN</td>\n",
       "      <td>NaN</td>\n",
       "      <td>NaN</td>\n",
       "      <td>NaN</td>\n",
       "      <td>NaN</td>\n",
       "      <td>NaN</td>\n",
       "      <td>NaN</td>\n",
       "      <td>NaN</td>\n",
       "      <td>...</td>\n",
       "      <td>NaN</td>\n",
       "      <td>NaN</td>\n",
       "      <td>NaN</td>\n",
       "      <td>NaN</td>\n",
       "      <td>NaN</td>\n",
       "      <td>NaN</td>\n",
       "      <td>NaN</td>\n",
       "      <td>NaN</td>\n",
       "      <td>NaN</td>\n",
       "      <td>NaN</td>\n",
       "    </tr>\n",
       "    <tr>\n",
       "      <th>3</th>\n",
       "      <td>NaN</td>\n",
       "      <td>NaN</td>\n",
       "      <td>NaN</td>\n",
       "      <td>NaN</td>\n",
       "      <td>NaN</td>\n",
       "      <td>NaN</td>\n",
       "      <td>NaN</td>\n",
       "      <td>NaN</td>\n",
       "      <td>NaN</td>\n",
       "      <td>NaN</td>\n",
       "      <td>...</td>\n",
       "      <td>NaN</td>\n",
       "      <td>NaN</td>\n",
       "      <td>NaN</td>\n",
       "      <td>NaN</td>\n",
       "      <td>NaN</td>\n",
       "      <td>NaN</td>\n",
       "      <td>NaN</td>\n",
       "      <td>NaN</td>\n",
       "      <td>NaN</td>\n",
       "      <td>NaN</td>\n",
       "    </tr>\n",
       "    <tr>\n",
       "      <th>4</th>\n",
       "      <td>NaN</td>\n",
       "      <td>NaN</td>\n",
       "      <td>NaN</td>\n",
       "      <td>NaN</td>\n",
       "      <td>NaN</td>\n",
       "      <td>NaN</td>\n",
       "      <td>NaN</td>\n",
       "      <td>NaN</td>\n",
       "      <td>NaN</td>\n",
       "      <td>NaN</td>\n",
       "      <td>...</td>\n",
       "      <td>NaN</td>\n",
       "      <td>NaN</td>\n",
       "      <td>NaN</td>\n",
       "      <td>NaN</td>\n",
       "      <td>NaN</td>\n",
       "      <td>NaN</td>\n",
       "      <td>NaN</td>\n",
       "      <td>NaN</td>\n",
       "      <td>NaN</td>\n",
       "      <td>NaN</td>\n",
       "    </tr>\n",
       "  </tbody>\n",
       "</table>\n",
       "<p>5 rows × 7290 columns</p>\n",
       "</div>"
      ],
      "text/plain": [
       "beer_name  \"M\"-perial Stout  \"Shabadoo\" Black & Tan Ale  #9  'Pooya Porter  \\\n",
       "UserID                                                                       \n",
       "0                       NaN                         NaN NaN            NaN   \n",
       "1                       NaN                         NaN NaN            NaN   \n",
       "2                       NaN                         NaN NaN            NaN   \n",
       "3                       NaN                         NaN NaN            NaN   \n",
       "4                       NaN                         NaN NaN            NaN   \n",
       "\n",
       "beer_name  't Gaverhopke Extra  't Smisje Blond  't Smisje Dubbel  \\\n",
       "UserID                                                              \n",
       "0                          NaN              NaN               NaN   \n",
       "1                          NaN              NaN               NaN   \n",
       "2                          NaN              NaN               NaN   \n",
       "3                          NaN              NaN               NaN   \n",
       "4                          NaN              NaN               NaN   \n",
       "\n",
       "beer_name  't Smisje Halloween  't Smisje IPA+  (512) Black IPA  ...  \\\n",
       "UserID                                                           ...   \n",
       "0                          NaN             NaN              NaN  ...   \n",
       "1                          NaN             NaN              NaN  ...   \n",
       "2                          NaN             NaN              NaN  ...   \n",
       "3                          NaN             NaN              NaN  ...   \n",
       "4                          NaN             NaN              NaN  ...   \n",
       "\n",
       "beer_name  Åbro Kung 5,2%  Ægir Sumbel Porter  Édition 2005  Éphémère (Apple)  \\\n",
       "UserID                                                                          \n",
       "0                     NaN                 NaN           NaN               NaN   \n",
       "1                     NaN                 NaN           NaN               NaN   \n",
       "2                     NaN                 NaN           NaN               NaN   \n",
       "3                     NaN                 NaN           NaN               NaN   \n",
       "4                     NaN                 NaN           NaN               NaN   \n",
       "\n",
       "beer_name  Éphémère (Cassis / Black Currant)  Érable Rouge  \\\n",
       "UserID                                                       \n",
       "0                                        NaN           NaN   \n",
       "1                                        NaN           NaN   \n",
       "2                                        NaN           NaN   \n",
       "3                                        NaN           NaN   \n",
       "4                                        NaN           NaN   \n",
       "\n",
       "beer_name  Ølfabrikken Brown Ale  Ølfabrikken Kloster Jul  Über Oktolager  \\\n",
       "UserID                                                                      \n",
       "0                            NaN                      NaN             NaN   \n",
       "1                            NaN                      NaN             NaN   \n",
       "2                            NaN                      NaN             NaN   \n",
       "3                            NaN                      NaN             NaN   \n",
       "4                            NaN                      NaN             NaN   \n",
       "\n",
       "beer_name  ÜberSun (Imperial Summer Wheat Beer)  \n",
       "UserID                                           \n",
       "0                                           NaN  \n",
       "1                                           NaN  \n",
       "2                                           NaN  \n",
       "3                                           NaN  \n",
       "4                                           NaN  \n",
       "\n",
       "[5 rows x 7290 columns]"
      ]
     },
     "execution_count": 40,
     "metadata": {},
     "output_type": "execute_result"
    }
   ],
   "source": [
    "user_rating_df.head(5)"
   ]
  },
  {
   "cell_type": "markdown",
   "id": "69a90be0",
   "metadata": {},
   "source": [
    "<h3>Normalizing the data</h3>"
   ]
  },
  {
   "cell_type": "code",
   "execution_count": 41,
   "id": "55cb4233",
   "metadata": {},
   "outputs": [
    {
     "data": {
      "text/plain": [
       "array([[0., 0., 0., ..., 0., 0., 0.],\n",
       "       [0., 0., 0., ..., 0., 0., 0.],\n",
       "       [0., 0., 0., ..., 0., 0., 0.],\n",
       "       [0., 0., 0., ..., 0., 0., 0.],\n",
       "       [0., 0., 0., ..., 0., 0., 0.]])"
      ]
     },
     "execution_count": 41,
     "metadata": {},
     "output_type": "execute_result"
    }
   ],
   "source": [
    "# Disable TensorFlow's eager execution mode (used in TensorFlow 2.x to execute operations immediately)\n",
    "tf.compat.v1.disable_eager_execution()\n",
    "\n",
    "# Normalize user rating DataFrame by filling missing values with 0 and scaling to a range of 0 to 1\n",
    "norm_user_rating_df = user_rating_df.fillna(0) / 5.0\n",
    "\n",
    "# Extract the values (as a NumPy array) from the normalized DataFrame, representing training data\n",
    "trX = norm_user_rating_df.values\n",
    "\n",
    "# Display the first 5 rows of the extracted training data\n",
    "trX[0:5]"
   ]
  },
  {
   "cell_type": "markdown",
   "id": "d1c8a510",
   "metadata": {},
   "source": [
    "<h3>Define parameters and placeholders</h3>"
   ]
  },
  {
   "cell_type": "code",
   "execution_count": 42,
   "id": "a50f594a",
   "metadata": {},
   "outputs": [
    {
     "name": "stdout",
     "output_type": "stream",
     "text": [
      "WARNING:tensorflow:From C:\\Users\\Beast\\AppData\\Local\\Temp/ipykernel_13580/3451145961.py:24: to_float (from tensorflow.python.ops.math_ops) is deprecated and will be removed in a future version.\n",
      "Instructions for updating:\n",
      "Use `tf.cast` instead.\n",
      "0.002944456\n",
      "0.0014314236\n",
      "0.0009296867\n",
      "0.0006889678\n",
      "0.0005620517\n",
      "0.0004774128\n",
      "0.0004241281\n",
      "0.00039111968\n",
      "0.000361214\n",
      "0.0003377176\n"
     ]
    }
   ],
   "source": [
    "# Set the number of units for visible and hidden layers in the RBM\n",
    "hiddenUnits = 20\n",
    "visibleUnits =  len(user_rating_df.columns)\n",
    "vb = tf.compat.v1.placeholder(\"float\", [visibleUnits])\n",
    "hb = tf.compat.v1.placeholder(\"float\", [hiddenUnits])\n",
    "W = tf.compat.v1.placeholder(\"float\", [visibleUnits, hiddenUnits])\n",
    "\n",
    "# Define placeholders for visible bias, hidden bias, and weights\n",
    "v0 = tf.compat.v1.placeholder(\"float\", [None, visibleUnits])  # Placeholder for visible layer at phase 0\n",
    "_h0 = tf.nn.sigmoid(tf.matmul(v0, W) + hb)  # Compute probabilities of hidden units given visible units at phase 0\n",
    "h0 = tf.nn.relu(tf.sign(_h0 - tf.random.uniform(tf.shape(input=_h0))))  # Compute hidden units at phase 0\n",
    "\n",
    "# Define placeholders for input data during RBM training\n",
    "_v1 = tf.nn.sigmoid(tf.matmul(h0, tf.transpose(W)) + vb) # Compute probabilities of visible units given hidden units at phase 1\n",
    "v1 = tf.nn.relu(tf.sign(_v1 - tf.random.uniform(tf.shape(input=_v1)))) # Compute visible units at phase 1\n",
    "h1 = tf.nn.sigmoid(tf.matmul(v1, W) + hb) # Compute probabilities of hidden units given visible units at phase 1\n",
    "\n",
    "# Define learning rate and calculate gradients for weight updates\n",
    "alpha = 1.0\n",
    "\n",
    "w_pos_grad = tf.matmul(tf.transpose(v0), h0)\n",
    "w_neg_grad = tf.matmul(tf.transpose(v1), h1)\n",
    "\n",
    "CD = (w_pos_grad - w_neg_grad) / tf.compat.v1.to_float(tf.shape(v0)[0])\n",
    "\n",
    "update_w = W + alpha * CD\n",
    "update_vb = vb + alpha * tf.reduce_mean(v0 - v1, 0)\n",
    "update_hb = hb + alpha * tf.reduce_mean(h0 - h1, 0)\n",
    "\n",
    "err = v0 - v1\n",
    "err_sum = tf.reduce_mean(err * err)\n",
    "\n",
    "# Initialize variables for weights, biases, and errors\n",
    "cur_w = np.zeros([visibleUnits, hiddenUnits], np.float32)\n",
    "\n",
    "cur_vb = np.zeros([visibleUnits], np.float32)\n",
    "\n",
    "cur_hb = np.zeros([hiddenUnits], np.float32)\n",
    "\n",
    "prv_w = np.zeros([visibleUnits, hiddenUnits], np.float32)\n",
    "\n",
    "prv_vb = np.zeros([visibleUnits], np.float32)\n",
    "\n",
    "prv_hb = np.zeros([hiddenUnits], np.float32)\n",
    "\n",
    "\n",
    "# Initialize TensorFlow session and variables\n",
    "sess = tf.compat.v1.Session()\n",
    "sess.run(tf.compat.v1.global_variables_initializer())\n",
    "\n",
    "\n",
    "# Train the RBM using for loops and batch processing\n",
    "epochs = 10\n",
    "batchsize = 100\n",
    "errors = []\n",
    "for i in range(epochs):\n",
    "    for start, end in zip( range(0, len(trX), batchsize), range(batchsize, len(trX), batchsize)):\n",
    "        batch = trX[start:end]\n",
    "        cur_w = sess.run(update_w, feed_dict={v0: batch, W: prv_w, vb: prv_vb, hb: prv_hb})\n",
    "        cur_vb = sess.run(update_vb, feed_dict={v0: batch, W: prv_w, vb: prv_vb, hb: prv_hb})\n",
    "        cur_nb = sess.run(update_hb, feed_dict={v0: batch, W: prv_w, vb: prv_vb, hb: prv_hb})\n",
    "        prv_w = cur_w\n",
    "        prv_vb = cur_vb\n",
    "        prv_hb = cur_hb\n",
    "    errors.append(sess.run(err_sum, feed_dict={v0: trX, W: cur_w, vb: cur_vb, hb: cur_hb}))\n",
    "    print (errors[-1])"
   ]
  },
  {
   "cell_type": "markdown",
   "id": "3b1f9040",
   "metadata": {},
   "source": [
    "<h3>Plotting the errors over the epochs</h3>"
   ]
  },
  {
   "cell_type": "code",
   "execution_count": 43,
   "id": "6b2f2f7c",
   "metadata": {},
   "outputs": [
    {
     "data": {
      "image/png": "[encoded data removed]",
      "text/plain": [
       "<Figure size 432x288 with 1 Axes>"
      ]
     },
     "metadata": {
      "needs_background": "light"
     },
     "output_type": "display_data"
    }
   ],
   "source": [
    "plt.plot(errors)\n",
    "plt.ylabel('Error')\n",
    "plt.xlabel('Epoch')\n",
    "plt.show()"
   ]
  },
  {
   "cell_type": "markdown",
   "id": "60ee7cf2",
   "metadata": {},
   "source": [
    "<h3>Selecting a mock user to test the recommendation system on</h3>"
   ]
  },
  {
   "cell_type": "code",
   "execution_count": 44,
   "id": "719e4cbb",
   "metadata": {},
   "outputs": [],
   "source": [
    "# Selecting a user\n",
    "mock_user_id = 42"
   ]
  },
  {
   "cell_type": "code",
   "execution_count": 45,
   "id": "141932fc",
   "metadata": {},
   "outputs": [
    {
     "data": {
      "text/plain": [
       "array([[0., 0., 0., ..., 0., 0., 0.]])"
      ]
     },
     "execution_count": 45,
     "metadata": {},
     "output_type": "execute_result"
    }
   ],
   "source": [
    "# Selecting the input user\n",
    "inputUser = trX[mock_user_id-1].reshape(1, -1)\n",
    "inputUser[0:5]"
   ]
  },
  {
   "cell_type": "markdown",
   "id": "f06cb745",
   "metadata": {},
   "source": [
    "<h3>Getting the scores and recommendations for the system</h3>"
   ]
  },
  {
   "cell_type": "code",
   "execution_count": 46,
   "id": "5e4bd5b6",
   "metadata": {},
   "outputs": [],
   "source": [
    "# Feeding in the user input and reconstructing the input using the RBM weights and biases\n",
    "\n",
    "# Calculate the hidden layer probabilities given the user input\n",
    "hh0 = tf.nn.sigmoid(tf.matmul(v0, W) + hb)\n",
    "\n",
    "# Reconstruct the visible layer probabilities given the calculated hidden layer probabilities\n",
    "vv1 = tf.nn.sigmoid(tf.matmul(hh0, tf.transpose(W)) + vb)\n",
    "\n",
    "# Feed the user input through the hidden layer to get the hidden layer activation\n",
    "feed = sess.run(hh0, feed_dict={v0: inputUser, W: prv_w, hb: prv_hb})\n",
    "\n",
    "# Reconstruct the input based on the hidden layer activation obtained above\n",
    "rec = sess.run(vv1, feed_dict={hh0: feed, W: prv_w, vb: prv_vb})\n"
   ]
  },
  {
   "cell_type": "markdown",
   "id": "c20c0c65",
   "metadata": {},
   "source": [
    "<h3>We will now use the system to recommend beers to our mock user</h3>"
   ]
  },
  {
   "cell_type": "code",
   "execution_count": 47,
   "id": "bd70867e",
   "metadata": {},
   "outputs": [
    {
     "data": {
      "text/html": [
       "<div>\n",
       "<style scoped>\n",
       "    .dataframe tbody tr th:only-of-type {\n",
       "        vertical-align: middle;\n",
       "    }\n",
       "\n",
       "    .dataframe tbody tr th {\n",
       "        vertical-align: top;\n",
       "    }\n",
       "\n",
       "    .dataframe thead th {\n",
       "        text-align: right;\n",
       "    }\n",
       "</style>\n",
       "<table border=\"1\" class=\"dataframe\">\n",
       "  <thead>\n",
       "    <tr style=\"text-align: right;\">\n",
       "      <th></th>\n",
       "      <th>beer_name</th>\n",
       "      <th>RecommendationScore</th>\n",
       "    </tr>\n",
       "  </thead>\n",
       "  <tbody>\n",
       "    <tr>\n",
       "      <th>1562771</th>\n",
       "      <td>Idaho Pale Ale</td>\n",
       "      <td>0.015795</td>\n",
       "    </tr>\n",
       "    <tr>\n",
       "      <th>1586276</th>\n",
       "      <td>Mighty Oak Burntwood Bitter</td>\n",
       "      <td>0.014452</td>\n",
       "    </tr>\n",
       "    <tr>\n",
       "      <th>920807</th>\n",
       "      <td>Red Hill Wheat Beer</td>\n",
       "      <td>0.011883</td>\n",
       "    </tr>\n",
       "    <tr>\n",
       "      <th>1586102</th>\n",
       "      <td>Coldstream Pilsner</td>\n",
       "      <td>0.010269</td>\n",
       "    </tr>\n",
       "    <tr>\n",
       "      <th>1493162</th>\n",
       "      <td>Telemark India Pale Ale (I.P.A.)</td>\n",
       "      <td>0.008945</td>\n",
       "    </tr>\n",
       "    <tr>\n",
       "      <th>412459</th>\n",
       "      <td>Killellan Bitter</td>\n",
       "      <td>0.008816</td>\n",
       "    </tr>\n",
       "    <tr>\n",
       "      <th>1246722</th>\n",
       "      <td>Ramée Blonde (for Bibco, Ternat)</td>\n",
       "      <td>0.007996</td>\n",
       "    </tr>\n",
       "    <tr>\n",
       "      <th>1473233</th>\n",
       "      <td>Church Key West Coast Pale Ale</td>\n",
       "      <td>0.007193</td>\n",
       "    </tr>\n",
       "    <tr>\n",
       "      <th>1536245</th>\n",
       "      <td>Revalations Stout</td>\n",
       "      <td>0.006623</td>\n",
       "    </tr>\n",
       "    <tr>\n",
       "      <th>1325367</th>\n",
       "      <td>Wachusett Country Pale Ale</td>\n",
       "      <td>0.006159</td>\n",
       "    </tr>\n",
       "    <tr>\n",
       "      <th>817711</th>\n",
       "      <td>Saranac Pumpkin Ale</td>\n",
       "      <td>0.005858</td>\n",
       "    </tr>\n",
       "    <tr>\n",
       "      <th>37970</th>\n",
       "      <td>5 Day IPA</td>\n",
       "      <td>0.005501</td>\n",
       "    </tr>\n",
       "    <tr>\n",
       "      <th>1079964</th>\n",
       "      <td>Otter Creek Copper Ale</td>\n",
       "      <td>0.005030</td>\n",
       "    </tr>\n",
       "    <tr>\n",
       "      <th>6320</th>\n",
       "      <td>King Don's Original Pumpkin Ale</td>\n",
       "      <td>0.004451</td>\n",
       "    </tr>\n",
       "    <tr>\n",
       "      <th>30765</th>\n",
       "      <td>Founders Centennial IPA</td>\n",
       "      <td>0.004194</td>\n",
       "    </tr>\n",
       "    <tr>\n",
       "      <th>783658</th>\n",
       "      <td>Moe's Bender</td>\n",
       "      <td>0.004151</td>\n",
       "    </tr>\n",
       "    <tr>\n",
       "      <th>433099</th>\n",
       "      <td>Gerst</td>\n",
       "      <td>0.003948</td>\n",
       "    </tr>\n",
       "    <tr>\n",
       "      <th>974939</th>\n",
       "      <td>Leffe Blonde</td>\n",
       "      <td>0.003918</td>\n",
       "    </tr>\n",
       "    <tr>\n",
       "      <th>341</th>\n",
       "      <td>Caldera IPA</td>\n",
       "      <td>0.003858</td>\n",
       "    </tr>\n",
       "    <tr>\n",
       "      <th>1483295</th>\n",
       "      <td>Cobra India Pale Ale</td>\n",
       "      <td>0.003797</td>\n",
       "    </tr>\n",
       "  </tbody>\n",
       "</table>\n",
       "</div>"
      ],
      "text/plain": [
       "                                beer_name  RecommendationScore\n",
       "1562771                    Idaho Pale Ale             0.015795\n",
       "1586276       Mighty Oak Burntwood Bitter             0.014452\n",
       "920807                Red Hill Wheat Beer             0.011883\n",
       "1586102                Coldstream Pilsner             0.010269\n",
       "1493162  Telemark India Pale Ale (I.P.A.)             0.008945\n",
       "412459                   Killellan Bitter             0.008816\n",
       "1246722  Ramée Blonde (for Bibco, Ternat)             0.007996\n",
       "1473233    Church Key West Coast Pale Ale             0.007193\n",
       "1536245                 Revalations Stout             0.006623\n",
       "1325367        Wachusett Country Pale Ale             0.006159\n",
       "817711                Saranac Pumpkin Ale             0.005858\n",
       "37970                           5 Day IPA             0.005501\n",
       "1079964            Otter Creek Copper Ale             0.005030\n",
       "6320      King Don's Original Pumpkin Ale             0.004451\n",
       "30765             Founders Centennial IPA             0.004194\n",
       "783658                       Moe's Bender             0.004151\n",
       "433099                              Gerst             0.003948\n",
       "974939                       Leffe Blonde             0.003918\n",
       "341                           Caldera IPA             0.003858\n",
       "1483295              Cobra India Pale Ale             0.003797"
      ]
     },
     "execution_count": 47,
     "metadata": {},
     "output_type": "execute_result"
    }
   ],
   "source": [
    "scored_asin_df_mock = cleaned.drop_duplicates(subset=['beer_name'])\n",
    "scored_asin_df_mock = scored_asin_df_mock.assign(RecommendationScore = rec[0])\n",
    "scored_asin_df_mock[['beer_name','RecommendationScore']].sort_values([\"RecommendationScore\"], ascending=False).head(20)"
   ]
  },
  {
   "cell_type": "code",
   "execution_count": 48,
   "id": "79cb2a07",
   "metadata": {},
   "outputs": [
    {
     "data": {
      "text/html": [
       "<div>\n",
       "<style scoped>\n",
       "    .dataframe tbody tr th:only-of-type {\n",
       "        vertical-align: middle;\n",
       "    }\n",
       "\n",
       "    .dataframe tbody tr th {\n",
       "        vertical-align: top;\n",
       "    }\n",
       "\n",
       "    .dataframe thead th {\n",
       "        text-align: right;\n",
       "    }\n",
       "</style>\n",
       "<table border=\"1\" class=\"dataframe\">\n",
       "  <thead>\n",
       "    <tr style=\"text-align: right;\">\n",
       "      <th></th>\n",
       "      <th>review_overall</th>\n",
       "      <th>beer_style</th>\n",
       "      <th>review_profilename</th>\n",
       "      <th>beer_name</th>\n",
       "      <th>Polarity_Rating</th>\n",
       "      <th>UserID</th>\n",
       "    </tr>\n",
       "  </thead>\n",
       "  <tbody>\n",
       "    <tr>\n",
       "      <th>1585991</th>\n",
       "      <td>3.5</td>\n",
       "      <td>American Pale Ale (APA)</td>\n",
       "      <td>beagle75</td>\n",
       "      <td>Drake's 1500 Pale Ale</td>\n",
       "      <td>Positive</td>\n",
       "      <td>42</td>\n",
       "    </tr>\n",
       "  </tbody>\n",
       "</table>\n",
       "</div>"
      ],
      "text/plain": [
       "         review_overall               beer_style review_profilename  \\\n",
       "1585991             3.5  American Pale Ale (APA)           beagle75   \n",
       "\n",
       "                     beer_name Polarity_Rating  UserID  \n",
       "1585991  Drake's 1500 Pale Ale        Positive      42  "
      ]
     },
     "execution_count": 48,
     "metadata": {},
     "output_type": "execute_result"
    }
   ],
   "source": [
    "beer_df_mock = cleaned[cleaned['UserID'] == 42]\n",
    "beer_df_mock.head()"
   ]
  },
  {
   "cell_type": "code",
   "execution_count": 49,
   "id": "48e7b680",
   "metadata": {},
   "outputs": [],
   "source": [
    "# Merging movies_df with ratings_df by beer_name\n",
    "merged_df_mock = scored_asin_df_mock.merge(beer_df_mock, on='beer_name', how='outer')"
   ]
  },
  {
   "cell_type": "markdown",
   "id": "adc4a57e",
   "metadata": {},
   "source": [
    "<h3> These will be the top five beers that the system will recommend to our mock user based on our defined system</h3>"
   ]
  },
  {
   "cell_type": "code",
   "execution_count": 50,
   "id": "4a120d48",
   "metadata": {},
   "outputs": [
    {
     "data": {
      "text/html": [
       "<div>\n",
       "<style scoped>\n",
       "    .dataframe tbody tr th:only-of-type {\n",
       "        vertical-align: middle;\n",
       "    }\n",
       "\n",
       "    .dataframe tbody tr th {\n",
       "        vertical-align: top;\n",
       "    }\n",
       "\n",
       "    .dataframe thead th {\n",
       "        text-align: right;\n",
       "    }\n",
       "</style>\n",
       "<table border=\"1\" class=\"dataframe\">\n",
       "  <thead>\n",
       "    <tr style=\"text-align: right;\">\n",
       "      <th></th>\n",
       "      <th>beer_name</th>\n",
       "      <th>RecommendationScore</th>\n",
       "    </tr>\n",
       "  </thead>\n",
       "  <tbody>\n",
       "    <tr>\n",
       "      <th>6717</th>\n",
       "      <td>Idaho Pale Ale</td>\n",
       "      <td>0.015795</td>\n",
       "    </tr>\n",
       "    <tr>\n",
       "      <th>7249</th>\n",
       "      <td>Mighty Oak Burntwood Bitter</td>\n",
       "      <td>0.014452</td>\n",
       "    </tr>\n",
       "    <tr>\n",
       "      <th>3170</th>\n",
       "      <td>Red Hill Wheat Beer</td>\n",
       "      <td>0.011883</td>\n",
       "    </tr>\n",
       "    <tr>\n",
       "      <th>7233</th>\n",
       "      <td>Coldstream Pilsner</td>\n",
       "      <td>0.010269</td>\n",
       "    </tr>\n",
       "    <tr>\n",
       "      <th>6326</th>\n",
       "      <td>Telemark India Pale Ale (I.P.A.)</td>\n",
       "      <td>0.008945</td>\n",
       "    </tr>\n",
       "  </tbody>\n",
       "</table>\n",
       "</div>"
      ],
      "text/plain": [
       "                             beer_name  RecommendationScore\n",
       "6717                    Idaho Pale Ale             0.015795\n",
       "7249       Mighty Oak Burntwood Bitter             0.014452\n",
       "3170               Red Hill Wheat Beer             0.011883\n",
       "7233                Coldstream Pilsner             0.010269\n",
       "6326  Telemark India Pale Ale (I.P.A.)             0.008945"
      ]
     },
     "execution_count": 50,
     "metadata": {},
     "output_type": "execute_result"
    }
   ],
   "source": [
    "merged_df_mock[['beer_name','RecommendationScore']].sort_values([\"RecommendationScore\"], ascending=False).head(5)"
   ]
  },
  {
   "cell_type": "markdown",
   "id": "fdce0790",
   "metadata": {},
   "source": [
    "### Summary and Conclusion\n",
    "### The sentiment analysis running on the RNN model had an accuracy of roughly 83% after running on 10 epochs. In order to make the model fit the dataset, I took a random sample of 5000 positive and negative reviews, though this made the epochs take about half a minute to run. The model may have been more accurate if more than 10 epochs were used to train the model, so tuning the hyperparameters may have improved the accuracy of the sentiment analysis model. The recommendation system based on a Restricted Boltzmann Machine model seems to work well. The recommendations made based on the recommendation score appears to be accurate, so this can be used to recommend beers to users who have not created a review on them yet."
   ]
  },
  {
   "cell_type": "code",
   "execution_count": null,
   "id": "42647954",
   "metadata": {},
   "outputs": [],
   "source": []
  }
 ],
 "metadata": {
  "kernelspec": {
   "display_name": "Python 3 (ipykernel)",
   "language": "python",
   "name": "python3"
  },
  "language_info": {
   "codemirror_mode": {
    "name": "ipython",
    "version": 3
   },
   "file_extension": ".py",
   "mimetype": "text/x-python",
   "name": "python",
   "nbconvert_exporter": "python",
   "pygments_lexer": "ipython3",
   "version": "3.9.7"
  }
 },
 "nbformat": 4,
 "nbformat_minor": 5
}
